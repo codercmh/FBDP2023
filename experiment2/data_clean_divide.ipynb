{
 "cells": [
  {
   "cell_type": "markdown",
   "source": [
    "# 金融大数据实验二数据清洗、预处理及划分"
   ],
   "metadata": {
    "collapsed": false
   },
   "id": "2d38093b115d552a"
  },
  {
   "cell_type": "code",
   "execution_count": 15,
   "id": "initial_id",
   "metadata": {
    "collapsed": true,
    "ExecuteTime": {
     "end_time": "2023-11-16T07:54:16.555781700Z",
     "start_time": "2023-11-16T07:54:16.524533600Z"
    }
   },
   "outputs": [],
   "source": [
    "import pandas as pd\n",
    "import numpy as np\n",
    "from sklearn.model_selection import train_test_split\n",
    "import sklearn"
   ]
  },
  {
   "cell_type": "code",
   "execution_count": 16,
   "outputs": [
    {
     "data": {
      "text/plain": "        SK_ID_CURR NAME_CONTRACT_TYPE CODE_GENDER FLAG_OWN_CAR  \\\n0           100002         Cash loans           M            N   \n1           100003         Cash loans           F            N   \n2           100004    Revolving loans           M            Y   \n3           100006         Cash loans           F            N   \n4           100007         Cash loans           M            N   \n...            ...                ...         ...          ...   \n307506      456251         Cash loans           M            N   \n307507      456252         Cash loans           F            N   \n307508      456253         Cash loans           F            N   \n307509      456254         Cash loans           F            N   \n307510      456255         Cash loans           F            N   \n\n       FLAG_OWN_REALTY  CNT_CHILDREN  AMT_INCOME_TOTAL  AMT_CREDIT  \\\n0                    Y             0          202500.0    406597.5   \n1                    N             0          270000.0   1293502.5   \n2                    Y             0           67500.0    135000.0   \n3                    Y             0          135000.0    312682.5   \n4                    Y             0          121500.0    513000.0   \n...                ...           ...               ...         ...   \n307506               N             0          157500.0    254700.0   \n307507               Y             0           72000.0    269550.0   \n307508               Y             0          153000.0    677664.0   \n307509               Y             0          171000.0    370107.0   \n307510               N             0          157500.0    675000.0   \n\n            NAME_INCOME_TYPE            NAME_EDUCATION_TYPE  ...  \\\n0                    Working  Secondary / secondary special  ...   \n1              State servant               Higher education  ...   \n2                    Working  Secondary / secondary special  ...   \n3                    Working  Secondary / secondary special  ...   \n4                    Working  Secondary / secondary special  ...   \n...                      ...                            ...  ...   \n307506               Working  Secondary / secondary special  ...   \n307507             Pensioner  Secondary / secondary special  ...   \n307508               Working               Higher education  ...   \n307509  Commercial associate  Secondary / secondary special  ...   \n307510  Commercial associate               Higher education  ...   \n\n       FLAG_DOCUMENT_13 FLAG_DOCUMENT_14  FLAG_DOCUMENT_15  FLAG_DOCUMENT_16  \\\n0                     0                0                 0                 0   \n1                     0                0                 0                 0   \n2                     0                0                 0                 0   \n3                     0                0                 0                 0   \n4                     0                0                 0                 0   \n...                 ...              ...               ...               ...   \n307506                0                0                 0                 0   \n307507                0                0                 0                 0   \n307508                0                0                 0                 0   \n307509                0                0                 0                 0   \n307510                0                0                 0                 0   \n\n        FLAG_DOCUMENT_17  FLAG_DOCUMENT_18  FLAG_DOCUMENT_19  \\\n0                      0                 0                 0   \n1                      0                 0                 0   \n2                      0                 0                 0   \n3                      0                 0                 0   \n4                      0                 0                 0   \n...                  ...               ...               ...   \n307506                 0                 0                 0   \n307507                 0                 0                 0   \n307508                 0                 0                 0   \n307509                 0                 0                 0   \n307510                 0                 0                 0   \n\n        FLAG_DOCUMENT_20  FLAG_DOCUMENT_21  TARGET  \n0                      0                 0       1  \n1                      0                 0       0  \n2                      0                 0       0  \n3                      0                 0       0  \n4                      0                 0       0  \n...                  ...               ...     ...  \n307506                 0                 0       0  \n307507                 0                 0       0  \n307508                 0                 0       0  \n307509                 0                 0       1  \n307510                 0                 0       0  \n\n[307511 rows x 60 columns]",
      "text/html": "<div>\n<style scoped>\n    .dataframe tbody tr th:only-of-type {\n        vertical-align: middle;\n    }\n\n    .dataframe tbody tr th {\n        vertical-align: top;\n    }\n\n    .dataframe thead th {\n        text-align: right;\n    }\n</style>\n<table border=\"1\" class=\"dataframe\">\n  <thead>\n    <tr style=\"text-align: right;\">\n      <th></th>\n      <th>SK_ID_CURR</th>\n      <th>NAME_CONTRACT_TYPE</th>\n      <th>CODE_GENDER</th>\n      <th>FLAG_OWN_CAR</th>\n      <th>FLAG_OWN_REALTY</th>\n      <th>CNT_CHILDREN</th>\n      <th>AMT_INCOME_TOTAL</th>\n      <th>AMT_CREDIT</th>\n      <th>NAME_INCOME_TYPE</th>\n      <th>NAME_EDUCATION_TYPE</th>\n      <th>...</th>\n      <th>FLAG_DOCUMENT_13</th>\n      <th>FLAG_DOCUMENT_14</th>\n      <th>FLAG_DOCUMENT_15</th>\n      <th>FLAG_DOCUMENT_16</th>\n      <th>FLAG_DOCUMENT_17</th>\n      <th>FLAG_DOCUMENT_18</th>\n      <th>FLAG_DOCUMENT_19</th>\n      <th>FLAG_DOCUMENT_20</th>\n      <th>FLAG_DOCUMENT_21</th>\n      <th>TARGET</th>\n    </tr>\n  </thead>\n  <tbody>\n    <tr>\n      <th>0</th>\n      <td>100002</td>\n      <td>Cash loans</td>\n      <td>M</td>\n      <td>N</td>\n      <td>Y</td>\n      <td>0</td>\n      <td>202500.0</td>\n      <td>406597.5</td>\n      <td>Working</td>\n      <td>Secondary / secondary special</td>\n      <td>...</td>\n      <td>0</td>\n      <td>0</td>\n      <td>0</td>\n      <td>0</td>\n      <td>0</td>\n      <td>0</td>\n      <td>0</td>\n      <td>0</td>\n      <td>0</td>\n      <td>1</td>\n    </tr>\n    <tr>\n      <th>1</th>\n      <td>100003</td>\n      <td>Cash loans</td>\n      <td>F</td>\n      <td>N</td>\n      <td>N</td>\n      <td>0</td>\n      <td>270000.0</td>\n      <td>1293502.5</td>\n      <td>State servant</td>\n      <td>Higher education</td>\n      <td>...</td>\n      <td>0</td>\n      <td>0</td>\n      <td>0</td>\n      <td>0</td>\n      <td>0</td>\n      <td>0</td>\n      <td>0</td>\n      <td>0</td>\n      <td>0</td>\n      <td>0</td>\n    </tr>\n    <tr>\n      <th>2</th>\n      <td>100004</td>\n      <td>Revolving loans</td>\n      <td>M</td>\n      <td>Y</td>\n      <td>Y</td>\n      <td>0</td>\n      <td>67500.0</td>\n      <td>135000.0</td>\n      <td>Working</td>\n      <td>Secondary / secondary special</td>\n      <td>...</td>\n      <td>0</td>\n      <td>0</td>\n      <td>0</td>\n      <td>0</td>\n      <td>0</td>\n      <td>0</td>\n      <td>0</td>\n      <td>0</td>\n      <td>0</td>\n      <td>0</td>\n    </tr>\n    <tr>\n      <th>3</th>\n      <td>100006</td>\n      <td>Cash loans</td>\n      <td>F</td>\n      <td>N</td>\n      <td>Y</td>\n      <td>0</td>\n      <td>135000.0</td>\n      <td>312682.5</td>\n      <td>Working</td>\n      <td>Secondary / secondary special</td>\n      <td>...</td>\n      <td>0</td>\n      <td>0</td>\n      <td>0</td>\n      <td>0</td>\n      <td>0</td>\n      <td>0</td>\n      <td>0</td>\n      <td>0</td>\n      <td>0</td>\n      <td>0</td>\n    </tr>\n    <tr>\n      <th>4</th>\n      <td>100007</td>\n      <td>Cash loans</td>\n      <td>M</td>\n      <td>N</td>\n      <td>Y</td>\n      <td>0</td>\n      <td>121500.0</td>\n      <td>513000.0</td>\n      <td>Working</td>\n      <td>Secondary / secondary special</td>\n      <td>...</td>\n      <td>0</td>\n      <td>0</td>\n      <td>0</td>\n      <td>0</td>\n      <td>0</td>\n      <td>0</td>\n      <td>0</td>\n      <td>0</td>\n      <td>0</td>\n      <td>0</td>\n    </tr>\n    <tr>\n      <th>...</th>\n      <td>...</td>\n      <td>...</td>\n      <td>...</td>\n      <td>...</td>\n      <td>...</td>\n      <td>...</td>\n      <td>...</td>\n      <td>...</td>\n      <td>...</td>\n      <td>...</td>\n      <td>...</td>\n      <td>...</td>\n      <td>...</td>\n      <td>...</td>\n      <td>...</td>\n      <td>...</td>\n      <td>...</td>\n      <td>...</td>\n      <td>...</td>\n      <td>...</td>\n      <td>...</td>\n    </tr>\n    <tr>\n      <th>307506</th>\n      <td>456251</td>\n      <td>Cash loans</td>\n      <td>M</td>\n      <td>N</td>\n      <td>N</td>\n      <td>0</td>\n      <td>157500.0</td>\n      <td>254700.0</td>\n      <td>Working</td>\n      <td>Secondary / secondary special</td>\n      <td>...</td>\n      <td>0</td>\n      <td>0</td>\n      <td>0</td>\n      <td>0</td>\n      <td>0</td>\n      <td>0</td>\n      <td>0</td>\n      <td>0</td>\n      <td>0</td>\n      <td>0</td>\n    </tr>\n    <tr>\n      <th>307507</th>\n      <td>456252</td>\n      <td>Cash loans</td>\n      <td>F</td>\n      <td>N</td>\n      <td>Y</td>\n      <td>0</td>\n      <td>72000.0</td>\n      <td>269550.0</td>\n      <td>Pensioner</td>\n      <td>Secondary / secondary special</td>\n      <td>...</td>\n      <td>0</td>\n      <td>0</td>\n      <td>0</td>\n      <td>0</td>\n      <td>0</td>\n      <td>0</td>\n      <td>0</td>\n      <td>0</td>\n      <td>0</td>\n      <td>0</td>\n    </tr>\n    <tr>\n      <th>307508</th>\n      <td>456253</td>\n      <td>Cash loans</td>\n      <td>F</td>\n      <td>N</td>\n      <td>Y</td>\n      <td>0</td>\n      <td>153000.0</td>\n      <td>677664.0</td>\n      <td>Working</td>\n      <td>Higher education</td>\n      <td>...</td>\n      <td>0</td>\n      <td>0</td>\n      <td>0</td>\n      <td>0</td>\n      <td>0</td>\n      <td>0</td>\n      <td>0</td>\n      <td>0</td>\n      <td>0</td>\n      <td>0</td>\n    </tr>\n    <tr>\n      <th>307509</th>\n      <td>456254</td>\n      <td>Cash loans</td>\n      <td>F</td>\n      <td>N</td>\n      <td>Y</td>\n      <td>0</td>\n      <td>171000.0</td>\n      <td>370107.0</td>\n      <td>Commercial associate</td>\n      <td>Secondary / secondary special</td>\n      <td>...</td>\n      <td>0</td>\n      <td>0</td>\n      <td>0</td>\n      <td>0</td>\n      <td>0</td>\n      <td>0</td>\n      <td>0</td>\n      <td>0</td>\n      <td>0</td>\n      <td>1</td>\n    </tr>\n    <tr>\n      <th>307510</th>\n      <td>456255</td>\n      <td>Cash loans</td>\n      <td>F</td>\n      <td>N</td>\n      <td>N</td>\n      <td>0</td>\n      <td>157500.0</td>\n      <td>675000.0</td>\n      <td>Commercial associate</td>\n      <td>Higher education</td>\n      <td>...</td>\n      <td>0</td>\n      <td>0</td>\n      <td>0</td>\n      <td>0</td>\n      <td>0</td>\n      <td>0</td>\n      <td>0</td>\n      <td>0</td>\n      <td>0</td>\n      <td>0</td>\n    </tr>\n  </tbody>\n</table>\n<p>307511 rows × 60 columns</p>\n</div>"
     },
     "execution_count": 16,
     "metadata": {},
     "output_type": "execute_result"
    }
   ],
   "source": [
    "#读入数据\n",
    "data=pd.read_csv(r'G:\\NJU_课程!!!!!!!!\\金融大数据处理技术\\实验二\\application_data.csv')\n",
    "data"
   ],
   "metadata": {
    "collapsed": false,
    "ExecuteTime": {
     "end_time": "2023-11-16T07:54:17.781989500Z",
     "start_time": "2023-11-16T07:54:16.533958400Z"
    }
   },
   "id": "3315adfe80683361"
  },
  {
   "cell_type": "code",
   "execution_count": 17,
   "outputs": [
    {
     "data": {
      "text/plain": "SK_ID_CURR                        0\nNAME_CONTRACT_TYPE                0\nCODE_GENDER                       0\nFLAG_OWN_CAR                      0\nFLAG_OWN_REALTY                   0\nCNT_CHILDREN                      0\nAMT_INCOME_TOTAL                  0\nAMT_CREDIT                        0\nNAME_INCOME_TYPE                  0\nNAME_EDUCATION_TYPE               0\nNAME_FAMILY_STATUS                0\nNAME_HOUSING_TYPE                 0\nREGION_POPULATION_RELATIVE        0\nDAYS_BIRTH                        0\nDAYS_EMPLOYED                     0\nDAYS_REGISTRATION                 0\nDAYS_ID_PUBLISH                   0\nFLAG_MOBIL                        0\nFLAG_EMP_PHONE                    0\nFLAG_WORK_PHONE                   0\nFLAG_CONT_MOBILE                  0\nFLAG_PHONE                        0\nFLAG_EMAIL                        0\nREGION_RATING_CLIENT              0\nREGION_RATING_CLIENT_W_CITY       0\nWEEKDAY_APPR_PROCESS_START        0\nHOUR_APPR_PROCESS_START           0\nREG_REGION_NOT_LIVE_REGION        0\nREG_REGION_NOT_WORK_REGION        0\nLIVE_REGION_NOT_WORK_REGION       0\nREG_CITY_NOT_LIVE_CITY            0\nREG_CITY_NOT_WORK_CITY            0\nLIVE_CITY_NOT_WORK_CITY           0\nORGANIZATION_TYPE                 0\nOBS_30_CNT_SOCIAL_CIRCLE       1021\nDEF_30_CNT_SOCIAL_CIRCLE       1021\nOBS_60_CNT_SOCIAL_CIRCLE       1021\nDEF_60_CNT_SOCIAL_CIRCLE       1021\nDAYS_LAST_PHONE_CHANGE            1\nFLAG_DOCUMENT_2                   0\nFLAG_DOCUMENT_3                   0\nFLAG_DOCUMENT_4                   0\nFLAG_DOCUMENT_5                   0\nFLAG_DOCUMENT_6                   0\nFLAG_DOCUMENT_7                   0\nFLAG_DOCUMENT_8                   0\nFLAG_DOCUMENT_9                   0\nFLAG_DOCUMENT_10                  0\nFLAG_DOCUMENT_11                  0\nFLAG_DOCUMENT_12                  0\nFLAG_DOCUMENT_13                  0\nFLAG_DOCUMENT_14                  0\nFLAG_DOCUMENT_15                  0\nFLAG_DOCUMENT_16                  0\nFLAG_DOCUMENT_17                  0\nFLAG_DOCUMENT_18                  0\nFLAG_DOCUMENT_19                  0\nFLAG_DOCUMENT_20                  0\nFLAG_DOCUMENT_21                  0\nTARGET                            0\ndtype: int64"
     },
     "execution_count": 17,
     "metadata": {},
     "output_type": "execute_result"
    }
   ],
   "source": [
    "#检查缺失值\n",
    "data.isnull().sum()"
   ],
   "metadata": {
    "collapsed": false,
    "ExecuteTime": {
     "end_time": "2023-11-16T07:54:17.903012700Z",
     "start_time": "2023-11-16T07:54:17.783974Z"
    }
   },
   "id": "74c95340b1470eed"
  },
  {
   "cell_type": "code",
   "execution_count": 18,
   "outputs": [
    {
     "data": {
      "text/plain": "        SK_ID_CURR NAME_CONTRACT_TYPE CODE_GENDER FLAG_OWN_CAR  \\\n0           100002         Cash loans           M            N   \n1           100003         Cash loans           F            N   \n2           100004    Revolving loans           M            Y   \n3           100006         Cash loans           F            N   \n4           100007         Cash loans           M            N   \n...            ...                ...         ...          ...   \n307506      456251         Cash loans           M            N   \n307507      456252         Cash loans           F            N   \n307508      456253         Cash loans           F            N   \n307509      456254         Cash loans           F            N   \n307510      456255         Cash loans           F            N   \n\n       FLAG_OWN_REALTY  CNT_CHILDREN  AMT_INCOME_TOTAL  AMT_CREDIT  \\\n0                    Y             0          202500.0    406597.5   \n1                    N             0          270000.0   1293502.5   \n2                    Y             0           67500.0    135000.0   \n3                    Y             0          135000.0    312682.5   \n4                    Y             0          121500.0    513000.0   \n...                ...           ...               ...         ...   \n307506               N             0          157500.0    254700.0   \n307507               Y             0           72000.0    269550.0   \n307508               Y             0          153000.0    677664.0   \n307509               Y             0          171000.0    370107.0   \n307510               N             0          157500.0    675000.0   \n\n            NAME_INCOME_TYPE            NAME_EDUCATION_TYPE  ...  \\\n0                    Working  Secondary / secondary special  ...   \n1              State servant               Higher education  ...   \n2                    Working  Secondary / secondary special  ...   \n3                    Working  Secondary / secondary special  ...   \n4                    Working  Secondary / secondary special  ...   \n...                      ...                            ...  ...   \n307506               Working  Secondary / secondary special  ...   \n307507             Pensioner  Secondary / secondary special  ...   \n307508               Working               Higher education  ...   \n307509  Commercial associate  Secondary / secondary special  ...   \n307510  Commercial associate               Higher education  ...   \n\n       FLAG_DOCUMENT_13 FLAG_DOCUMENT_14  FLAG_DOCUMENT_15  FLAG_DOCUMENT_16  \\\n0                     0                0                 0                 0   \n1                     0                0                 0                 0   \n2                     0                0                 0                 0   \n3                     0                0                 0                 0   \n4                     0                0                 0                 0   \n...                 ...              ...               ...               ...   \n307506                0                0                 0                 0   \n307507                0                0                 0                 0   \n307508                0                0                 0                 0   \n307509                0                0                 0                 0   \n307510                0                0                 0                 0   \n\n        FLAG_DOCUMENT_17  FLAG_DOCUMENT_18  FLAG_DOCUMENT_19  \\\n0                      0                 0                 0   \n1                      0                 0                 0   \n2                      0                 0                 0   \n3                      0                 0                 0   \n4                      0                 0                 0   \n...                  ...               ...               ...   \n307506                 0                 0                 0   \n307507                 0                 0                 0   \n307508                 0                 0                 0   \n307509                 0                 0                 0   \n307510                 0                 0                 0   \n\n        FLAG_DOCUMENT_20  FLAG_DOCUMENT_21  TARGET  \n0                      0                 0       1  \n1                      0                 0       0  \n2                      0                 0       0  \n3                      0                 0       0  \n4                      0                 0       0  \n...                  ...               ...     ...  \n307506                 0                 0       0  \n307507                 0                 0       0  \n307508                 0                 0       0  \n307509                 0                 0       1  \n307510                 0                 0       0  \n\n[306489 rows x 60 columns]",
      "text/html": "<div>\n<style scoped>\n    .dataframe tbody tr th:only-of-type {\n        vertical-align: middle;\n    }\n\n    .dataframe tbody tr th {\n        vertical-align: top;\n    }\n\n    .dataframe thead th {\n        text-align: right;\n    }\n</style>\n<table border=\"1\" class=\"dataframe\">\n  <thead>\n    <tr style=\"text-align: right;\">\n      <th></th>\n      <th>SK_ID_CURR</th>\n      <th>NAME_CONTRACT_TYPE</th>\n      <th>CODE_GENDER</th>\n      <th>FLAG_OWN_CAR</th>\n      <th>FLAG_OWN_REALTY</th>\n      <th>CNT_CHILDREN</th>\n      <th>AMT_INCOME_TOTAL</th>\n      <th>AMT_CREDIT</th>\n      <th>NAME_INCOME_TYPE</th>\n      <th>NAME_EDUCATION_TYPE</th>\n      <th>...</th>\n      <th>FLAG_DOCUMENT_13</th>\n      <th>FLAG_DOCUMENT_14</th>\n      <th>FLAG_DOCUMENT_15</th>\n      <th>FLAG_DOCUMENT_16</th>\n      <th>FLAG_DOCUMENT_17</th>\n      <th>FLAG_DOCUMENT_18</th>\n      <th>FLAG_DOCUMENT_19</th>\n      <th>FLAG_DOCUMENT_20</th>\n      <th>FLAG_DOCUMENT_21</th>\n      <th>TARGET</th>\n    </tr>\n  </thead>\n  <tbody>\n    <tr>\n      <th>0</th>\n      <td>100002</td>\n      <td>Cash loans</td>\n      <td>M</td>\n      <td>N</td>\n      <td>Y</td>\n      <td>0</td>\n      <td>202500.0</td>\n      <td>406597.5</td>\n      <td>Working</td>\n      <td>Secondary / secondary special</td>\n      <td>...</td>\n      <td>0</td>\n      <td>0</td>\n      <td>0</td>\n      <td>0</td>\n      <td>0</td>\n      <td>0</td>\n      <td>0</td>\n      <td>0</td>\n      <td>0</td>\n      <td>1</td>\n    </tr>\n    <tr>\n      <th>1</th>\n      <td>100003</td>\n      <td>Cash loans</td>\n      <td>F</td>\n      <td>N</td>\n      <td>N</td>\n      <td>0</td>\n      <td>270000.0</td>\n      <td>1293502.5</td>\n      <td>State servant</td>\n      <td>Higher education</td>\n      <td>...</td>\n      <td>0</td>\n      <td>0</td>\n      <td>0</td>\n      <td>0</td>\n      <td>0</td>\n      <td>0</td>\n      <td>0</td>\n      <td>0</td>\n      <td>0</td>\n      <td>0</td>\n    </tr>\n    <tr>\n      <th>2</th>\n      <td>100004</td>\n      <td>Revolving loans</td>\n      <td>M</td>\n      <td>Y</td>\n      <td>Y</td>\n      <td>0</td>\n      <td>67500.0</td>\n      <td>135000.0</td>\n      <td>Working</td>\n      <td>Secondary / secondary special</td>\n      <td>...</td>\n      <td>0</td>\n      <td>0</td>\n      <td>0</td>\n      <td>0</td>\n      <td>0</td>\n      <td>0</td>\n      <td>0</td>\n      <td>0</td>\n      <td>0</td>\n      <td>0</td>\n    </tr>\n    <tr>\n      <th>3</th>\n      <td>100006</td>\n      <td>Cash loans</td>\n      <td>F</td>\n      <td>N</td>\n      <td>Y</td>\n      <td>0</td>\n      <td>135000.0</td>\n      <td>312682.5</td>\n      <td>Working</td>\n      <td>Secondary / secondary special</td>\n      <td>...</td>\n      <td>0</td>\n      <td>0</td>\n      <td>0</td>\n      <td>0</td>\n      <td>0</td>\n      <td>0</td>\n      <td>0</td>\n      <td>0</td>\n      <td>0</td>\n      <td>0</td>\n    </tr>\n    <tr>\n      <th>4</th>\n      <td>100007</td>\n      <td>Cash loans</td>\n      <td>M</td>\n      <td>N</td>\n      <td>Y</td>\n      <td>0</td>\n      <td>121500.0</td>\n      <td>513000.0</td>\n      <td>Working</td>\n      <td>Secondary / secondary special</td>\n      <td>...</td>\n      <td>0</td>\n      <td>0</td>\n      <td>0</td>\n      <td>0</td>\n      <td>0</td>\n      <td>0</td>\n      <td>0</td>\n      <td>0</td>\n      <td>0</td>\n      <td>0</td>\n    </tr>\n    <tr>\n      <th>...</th>\n      <td>...</td>\n      <td>...</td>\n      <td>...</td>\n      <td>...</td>\n      <td>...</td>\n      <td>...</td>\n      <td>...</td>\n      <td>...</td>\n      <td>...</td>\n      <td>...</td>\n      <td>...</td>\n      <td>...</td>\n      <td>...</td>\n      <td>...</td>\n      <td>...</td>\n      <td>...</td>\n      <td>...</td>\n      <td>...</td>\n      <td>...</td>\n      <td>...</td>\n      <td>...</td>\n    </tr>\n    <tr>\n      <th>307506</th>\n      <td>456251</td>\n      <td>Cash loans</td>\n      <td>M</td>\n      <td>N</td>\n      <td>N</td>\n      <td>0</td>\n      <td>157500.0</td>\n      <td>254700.0</td>\n      <td>Working</td>\n      <td>Secondary / secondary special</td>\n      <td>...</td>\n      <td>0</td>\n      <td>0</td>\n      <td>0</td>\n      <td>0</td>\n      <td>0</td>\n      <td>0</td>\n      <td>0</td>\n      <td>0</td>\n      <td>0</td>\n      <td>0</td>\n    </tr>\n    <tr>\n      <th>307507</th>\n      <td>456252</td>\n      <td>Cash loans</td>\n      <td>F</td>\n      <td>N</td>\n      <td>Y</td>\n      <td>0</td>\n      <td>72000.0</td>\n      <td>269550.0</td>\n      <td>Pensioner</td>\n      <td>Secondary / secondary special</td>\n      <td>...</td>\n      <td>0</td>\n      <td>0</td>\n      <td>0</td>\n      <td>0</td>\n      <td>0</td>\n      <td>0</td>\n      <td>0</td>\n      <td>0</td>\n      <td>0</td>\n      <td>0</td>\n    </tr>\n    <tr>\n      <th>307508</th>\n      <td>456253</td>\n      <td>Cash loans</td>\n      <td>F</td>\n      <td>N</td>\n      <td>Y</td>\n      <td>0</td>\n      <td>153000.0</td>\n      <td>677664.0</td>\n      <td>Working</td>\n      <td>Higher education</td>\n      <td>...</td>\n      <td>0</td>\n      <td>0</td>\n      <td>0</td>\n      <td>0</td>\n      <td>0</td>\n      <td>0</td>\n      <td>0</td>\n      <td>0</td>\n      <td>0</td>\n      <td>0</td>\n    </tr>\n    <tr>\n      <th>307509</th>\n      <td>456254</td>\n      <td>Cash loans</td>\n      <td>F</td>\n      <td>N</td>\n      <td>Y</td>\n      <td>0</td>\n      <td>171000.0</td>\n      <td>370107.0</td>\n      <td>Commercial associate</td>\n      <td>Secondary / secondary special</td>\n      <td>...</td>\n      <td>0</td>\n      <td>0</td>\n      <td>0</td>\n      <td>0</td>\n      <td>0</td>\n      <td>0</td>\n      <td>0</td>\n      <td>0</td>\n      <td>0</td>\n      <td>1</td>\n    </tr>\n    <tr>\n      <th>307510</th>\n      <td>456255</td>\n      <td>Cash loans</td>\n      <td>F</td>\n      <td>N</td>\n      <td>N</td>\n      <td>0</td>\n      <td>157500.0</td>\n      <td>675000.0</td>\n      <td>Commercial associate</td>\n      <td>Higher education</td>\n      <td>...</td>\n      <td>0</td>\n      <td>0</td>\n      <td>0</td>\n      <td>0</td>\n      <td>0</td>\n      <td>0</td>\n      <td>0</td>\n      <td>0</td>\n      <td>0</td>\n      <td>0</td>\n    </tr>\n  </tbody>\n</table>\n<p>306489 rows × 60 columns</p>\n</div>"
     },
     "execution_count": 18,
     "metadata": {},
     "output_type": "execute_result"
    }
   ],
   "source": [
    "#删除有缺失值的行\n",
    "data=data.dropna(axis=0,how='any')\n",
    "data"
   ],
   "metadata": {
    "collapsed": false,
    "ExecuteTime": {
     "end_time": "2023-11-16T07:54:18.123237100Z",
     "start_time": "2023-11-16T07:54:17.879206600Z"
    }
   },
   "id": "25db83cd326b2caa"
  },
  {
   "cell_type": "code",
   "execution_count": 19,
   "outputs": [
    {
     "name": "stdout",
     "output_type": "stream",
     "text": [
      "Index(['SK_ID_CURR'], dtype='object')\n",
      "SK_ID_CURR                     306489\n",
      "NAME_CONTRACT_TYPE                  2\n",
      "CODE_GENDER                         3\n",
      "FLAG_OWN_CAR                        2\n",
      "FLAG_OWN_REALTY                     2\n",
      "CNT_CHILDREN                       15\n",
      "AMT_INCOME_TOTAL                 2544\n",
      "AMT_CREDIT                       5603\n",
      "NAME_INCOME_TYPE                    8\n",
      "NAME_EDUCATION_TYPE                 5\n",
      "NAME_FAMILY_STATUS                  6\n",
      "NAME_HOUSING_TYPE                   6\n",
      "REGION_POPULATION_RELATIVE         81\n",
      "DAYS_BIRTH                      17460\n",
      "DAYS_EMPLOYED                   12565\n",
      "DAYS_REGISTRATION               15683\n",
      "DAYS_ID_PUBLISH                  6167\n",
      "FLAG_MOBIL                          1\n",
      "FLAG_EMP_PHONE                      2\n",
      "FLAG_WORK_PHONE                     2\n",
      "FLAG_CONT_MOBILE                    2\n",
      "FLAG_PHONE                          2\n",
      "FLAG_EMAIL                          2\n",
      "REGION_RATING_CLIENT                3\n",
      "REGION_RATING_CLIENT_W_CITY         3\n",
      "WEEKDAY_APPR_PROCESS_START          7\n",
      "HOUR_APPR_PROCESS_START            24\n",
      "REG_REGION_NOT_LIVE_REGION          2\n",
      "REG_REGION_NOT_WORK_REGION          2\n",
      "LIVE_REGION_NOT_WORK_REGION         2\n",
      "REG_CITY_NOT_LIVE_CITY              2\n",
      "REG_CITY_NOT_WORK_CITY              2\n",
      "LIVE_CITY_NOT_WORK_CITY             2\n",
      "ORGANIZATION_TYPE                  58\n",
      "OBS_30_CNT_SOCIAL_CIRCLE           33\n",
      "DEF_30_CNT_SOCIAL_CIRCLE           10\n",
      "OBS_60_CNT_SOCIAL_CIRCLE           33\n",
      "DEF_60_CNT_SOCIAL_CIRCLE            9\n",
      "DAYS_LAST_PHONE_CHANGE           3770\n",
      "FLAG_DOCUMENT_2                     2\n",
      "FLAG_DOCUMENT_3                     2\n",
      "FLAG_DOCUMENT_4                     2\n",
      "FLAG_DOCUMENT_5                     2\n",
      "FLAG_DOCUMENT_6                     2\n",
      "FLAG_DOCUMENT_7                     2\n",
      "FLAG_DOCUMENT_8                     2\n",
      "FLAG_DOCUMENT_9                     2\n",
      "FLAG_DOCUMENT_10                    2\n",
      "FLAG_DOCUMENT_11                    2\n",
      "FLAG_DOCUMENT_12                    2\n",
      "FLAG_DOCUMENT_13                    2\n",
      "FLAG_DOCUMENT_14                    2\n",
      "FLAG_DOCUMENT_15                    2\n",
      "FLAG_DOCUMENT_16                    2\n",
      "FLAG_DOCUMENT_17                    2\n",
      "FLAG_DOCUMENT_18                    2\n",
      "FLAG_DOCUMENT_19                    2\n",
      "FLAG_DOCUMENT_20                    2\n",
      "FLAG_DOCUMENT_21                    2\n",
      "TARGET                              2\n",
      "dtype: int64\n"
     ]
    }
   ],
   "source": [
    "#检查data中的唯一值特征\n",
    "unique_columns = data.nunique()[data.nunique() == len(data)].index\n",
    "print(unique_columns)\n",
    "print(data.nunique())"
   ],
   "metadata": {
    "collapsed": false,
    "ExecuteTime": {
     "end_time": "2023-11-16T07:54:19.194102Z",
     "start_time": "2023-11-16T07:54:18.124724900Z"
    }
   },
   "id": "36a60419e0fb0d13"
  },
  {
   "cell_type": "code",
   "execution_count": 20,
   "outputs": [
    {
     "data": {
      "text/plain": "['SK_ID_CURR',\n 'NAME_CONTRACT_TYPE',\n 'CODE_GENDER',\n 'FLAG_OWN_CAR',\n 'FLAG_OWN_REALTY',\n 'CNT_CHILDREN',\n 'AMT_INCOME_TOTAL',\n 'AMT_CREDIT',\n 'NAME_INCOME_TYPE',\n 'NAME_EDUCATION_TYPE',\n 'NAME_FAMILY_STATUS',\n 'NAME_HOUSING_TYPE',\n 'REGION_POPULATION_RELATIVE',\n 'DAYS_BIRTH',\n 'DAYS_EMPLOYED',\n 'DAYS_REGISTRATION',\n 'DAYS_ID_PUBLISH',\n 'FLAG_MOBIL',\n 'FLAG_EMP_PHONE',\n 'FLAG_WORK_PHONE',\n 'FLAG_CONT_MOBILE',\n 'FLAG_PHONE',\n 'FLAG_EMAIL',\n 'REGION_RATING_CLIENT',\n 'REGION_RATING_CLIENT_W_CITY',\n 'WEEKDAY_APPR_PROCESS_START',\n 'HOUR_APPR_PROCESS_START',\n 'REG_REGION_NOT_LIVE_REGION',\n 'REG_REGION_NOT_WORK_REGION',\n 'LIVE_REGION_NOT_WORK_REGION',\n 'REG_CITY_NOT_LIVE_CITY',\n 'REG_CITY_NOT_WORK_CITY',\n 'LIVE_CITY_NOT_WORK_CITY',\n 'ORGANIZATION_TYPE',\n 'OBS_30_CNT_SOCIAL_CIRCLE',\n 'DEF_30_CNT_SOCIAL_CIRCLE',\n 'OBS_60_CNT_SOCIAL_CIRCLE',\n 'DEF_60_CNT_SOCIAL_CIRCLE',\n 'DAYS_LAST_PHONE_CHANGE',\n 'FLAG_DOCUMENT_2',\n 'FLAG_DOCUMENT_3',\n 'FLAG_DOCUMENT_4',\n 'FLAG_DOCUMENT_5',\n 'FLAG_DOCUMENT_6',\n 'FLAG_DOCUMENT_7',\n 'FLAG_DOCUMENT_8',\n 'FLAG_DOCUMENT_9',\n 'FLAG_DOCUMENT_10',\n 'FLAG_DOCUMENT_11',\n 'FLAG_DOCUMENT_12',\n 'FLAG_DOCUMENT_13',\n 'FLAG_DOCUMENT_14',\n 'FLAG_DOCUMENT_15',\n 'FLAG_DOCUMENT_16',\n 'FLAG_DOCUMENT_17',\n 'FLAG_DOCUMENT_18',\n 'FLAG_DOCUMENT_19',\n 'FLAG_DOCUMENT_20',\n 'FLAG_DOCUMENT_21',\n 'TARGET']"
     },
     "execution_count": 20,
     "metadata": {},
     "output_type": "execute_result"
    }
   ],
   "source": [
    "data.columns.to_list()"
   ],
   "metadata": {
    "collapsed": false,
    "ExecuteTime": {
     "end_time": "2023-11-16T07:54:19.208982200Z",
     "start_time": "2023-11-16T07:54:19.196086100Z"
    }
   },
   "id": "28f6db977a0c0f71"
  },
  {
   "cell_type": "code",
   "execution_count": 21,
   "outputs": [],
   "source": [
    "# 连续数值特征\n",
    "numfea=[\n",
    " 'CNT_CHILDREN',\n",
    " 'AMT_INCOME_TOTAL',\n",
    " 'AMT_CREDIT',\n",
    " 'REGION_POPULATION_RELATIVE',\n",
    " 'DAYS_BIRTH',\n",
    " 'DAYS_EMPLOYED',\n",
    " 'DAYS_REGISTRATION',\n",
    " 'DAYS_ID_PUBLISH',\n",
    " 'REGION_RATING_CLIENT',\n",
    " 'REGION_RATING_CLIENT_W_CITY',\n",
    " 'HOUR_APPR_PROCESS_START',\n",
    " 'OBS_30_CNT_SOCIAL_CIRCLE',\n",
    " 'DEF_30_CNT_SOCIAL_CIRCLE',\n",
    " 'OBS_60_CNT_SOCIAL_CIRCLE',\n",
    " 'DEF_60_CNT_SOCIAL_CIRCLE',\n",
    " 'DAYS_LAST_PHONE_CHANGE',\n",
    "]\n",
    "# 离散特征\n",
    "catefea=[\n",
    " 'NAME_CONTRACT_TYPE',\n",
    " 'CODE_GENDER',\n",
    " 'FLAG_OWN_CAR',\n",
    " 'FLAG_OWN_REALTY',\n",
    " 'NAME_INCOME_TYPE',\n",
    " 'NAME_EDUCATION_TYPE',\n",
    " 'NAME_FAMILY_STATUS',\n",
    " 'NAME_HOUSING_TYPE',\n",
    " 'FLAG_MOBIL',\n",
    " 'FLAG_EMP_PHONE',\n",
    " 'FLAG_WORK_PHONE',\n",
    " 'FLAG_CONT_MOBILE',\n",
    " 'FLAG_PHONE',\n",
    " 'FLAG_EMAIL',\n",
    " 'WEEKDAY_APPR_PROCESS_START',\n",
    " 'REG_REGION_NOT_LIVE_REGION',\n",
    " 'REG_REGION_NOT_WORK_REGION',\n",
    " 'LIVE_REGION_NOT_WORK_REGION',\n",
    " 'REG_CITY_NOT_LIVE_CITY',\n",
    " 'REG_CITY_NOT_WORK_CITY',\n",
    " 'LIVE_CITY_NOT_WORK_CITY',\n",
    " 'ORGANIZATION_TYPE',\n",
    " 'FLAG_DOCUMENT_2',\n",
    " 'FLAG_DOCUMENT_3',\n",
    " 'FLAG_DOCUMENT_4',\n",
    " 'FLAG_DOCUMENT_5',\n",
    " 'FLAG_DOCUMENT_6',\n",
    " 'FLAG_DOCUMENT_7',\n",
    " 'FLAG_DOCUMENT_8',\n",
    " 'FLAG_DOCUMENT_9',\n",
    " 'FLAG_DOCUMENT_10',\n",
    " 'FLAG_DOCUMENT_11',\n",
    " 'FLAG_DOCUMENT_12',\n",
    " 'FLAG_DOCUMENT_13',\n",
    " 'FLAG_DOCUMENT_14',\n",
    " 'FLAG_DOCUMENT_15',\n",
    " 'FLAG_DOCUMENT_16',\n",
    " 'FLAG_DOCUMENT_17',\n",
    " 'FLAG_DOCUMENT_18',\n",
    " 'FLAG_DOCUMENT_19',\n",
    " 'FLAG_DOCUMENT_20',\n",
    " 'FLAG_DOCUMENT_21',\n",
    "]\n",
    "#预测目标为\"TARGET\""
   ],
   "metadata": {
    "collapsed": false,
    "ExecuteTime": {
     "end_time": "2023-11-16T07:54:19.251647900Z",
     "start_time": "2023-11-16T07:54:19.226342100Z"
    }
   },
   "id": "cdd0ef55bc380662"
  },
  {
   "cell_type": "code",
   "execution_count": 22,
   "outputs": [
    {
     "name": "stderr",
     "output_type": "stream",
     "text": [
      "C:\\Users\\86159\\AppData\\Local\\Temp\\ipykernel_18000\\2009933433.py:4: SettingWithCopyWarning: \n",
      "A value is trying to be set on a copy of a slice from a DataFrame.\n",
      "Try using .loc[row_indexer,col_indexer] = value instead\n",
      "\n",
      "See the caveats in the documentation: https://pandas.pydata.org/pandas-docs/stable/user_guide/indexing.html#returning-a-view-versus-a-copy\n",
      "  data[numfea] = normalizer.transform(data[numfea])\n"
     ]
    },
    {
     "data": {
      "text/plain": "        SK_ID_CURR NAME_CONTRACT_TYPE CODE_GENDER FLAG_OWN_CAR  \\\n0           100002         Cash loans           M            N   \n1           100003         Cash loans           F            N   \n2           100004    Revolving loans           M            Y   \n3           100006         Cash loans           F            N   \n4           100007         Cash loans           M            N   \n...            ...                ...         ...          ...   \n307506      456251         Cash loans           M            N   \n307507      456252         Cash loans           F            N   \n307508      456253         Cash loans           F            N   \n307509      456254         Cash loans           F            N   \n307510      456255         Cash loans           F            N   \n\n       FLAG_OWN_REALTY  CNT_CHILDREN  AMT_INCOME_TOTAL  AMT_CREDIT  \\\n0                    Y           0.0          0.001512    0.090287   \n1                    N           0.0          0.002089    0.311736   \n2                    Y           0.0          0.000358    0.022472   \n3                    Y           0.0          0.000935    0.066837   \n4                    Y           0.0          0.000819    0.116854   \n...                ...           ...               ...         ...   \n307506               N           0.0          0.001127    0.052360   \n307507               Y           0.0          0.000396    0.056067   \n307508               Y           0.0          0.001089    0.157969   \n307509               Y           0.0          0.001243    0.081175   \n307510               N           0.0          0.001127    0.157303   \n\n            NAME_INCOME_TYPE            NAME_EDUCATION_TYPE  ...  \\\n0                    Working  Secondary / secondary special  ...   \n1              State servant               Higher education  ...   \n2                    Working  Secondary / secondary special  ...   \n3                    Working  Secondary / secondary special  ...   \n4                    Working  Secondary / secondary special  ...   \n...                      ...                            ...  ...   \n307506               Working  Secondary / secondary special  ...   \n307507             Pensioner  Secondary / secondary special  ...   \n307508               Working               Higher education  ...   \n307509  Commercial associate  Secondary / secondary special  ...   \n307510  Commercial associate               Higher education  ...   \n\n       FLAG_DOCUMENT_13 FLAG_DOCUMENT_14  FLAG_DOCUMENT_15  FLAG_DOCUMENT_16  \\\n0                     0                0                 0                 0   \n1                     0                0                 0                 0   \n2                     0                0                 0                 0   \n3                     0                0                 0                 0   \n4                     0                0                 0                 0   \n...                 ...              ...               ...               ...   \n307506                0                0                 0                 0   \n307507                0                0                 0                 0   \n307508                0                0                 0                 0   \n307509                0                0                 0                 0   \n307510                0                0                 0                 0   \n\n        FLAG_DOCUMENT_17  FLAG_DOCUMENT_18  FLAG_DOCUMENT_19  \\\n0                      0                 0                 0   \n1                      0                 0                 0   \n2                      0                 0                 0   \n3                      0                 0                 0   \n4                      0                 0                 0   \n...                  ...               ...               ...   \n307506                 0                 0                 0   \n307507                 0                 0                 0   \n307508                 0                 0                 0   \n307509                 0                 0                 0   \n307510                 0                 0                 0   \n\n        FLAG_DOCUMENT_20  FLAG_DOCUMENT_21  TARGET  \n0                      0                 0       1  \n1                      0                 0       0  \n2                      0                 0       0  \n3                      0                 0       0  \n4                      0                 0       0  \n...                  ...               ...     ...  \n307506                 0                 0       0  \n307507                 0                 0       0  \n307508                 0                 0       0  \n307509                 0                 0       1  \n307510                 0                 0       0  \n\n[306489 rows x 60 columns]",
      "text/html": "<div>\n<style scoped>\n    .dataframe tbody tr th:only-of-type {\n        vertical-align: middle;\n    }\n\n    .dataframe tbody tr th {\n        vertical-align: top;\n    }\n\n    .dataframe thead th {\n        text-align: right;\n    }\n</style>\n<table border=\"1\" class=\"dataframe\">\n  <thead>\n    <tr style=\"text-align: right;\">\n      <th></th>\n      <th>SK_ID_CURR</th>\n      <th>NAME_CONTRACT_TYPE</th>\n      <th>CODE_GENDER</th>\n      <th>FLAG_OWN_CAR</th>\n      <th>FLAG_OWN_REALTY</th>\n      <th>CNT_CHILDREN</th>\n      <th>AMT_INCOME_TOTAL</th>\n      <th>AMT_CREDIT</th>\n      <th>NAME_INCOME_TYPE</th>\n      <th>NAME_EDUCATION_TYPE</th>\n      <th>...</th>\n      <th>FLAG_DOCUMENT_13</th>\n      <th>FLAG_DOCUMENT_14</th>\n      <th>FLAG_DOCUMENT_15</th>\n      <th>FLAG_DOCUMENT_16</th>\n      <th>FLAG_DOCUMENT_17</th>\n      <th>FLAG_DOCUMENT_18</th>\n      <th>FLAG_DOCUMENT_19</th>\n      <th>FLAG_DOCUMENT_20</th>\n      <th>FLAG_DOCUMENT_21</th>\n      <th>TARGET</th>\n    </tr>\n  </thead>\n  <tbody>\n    <tr>\n      <th>0</th>\n      <td>100002</td>\n      <td>Cash loans</td>\n      <td>M</td>\n      <td>N</td>\n      <td>Y</td>\n      <td>0.0</td>\n      <td>0.001512</td>\n      <td>0.090287</td>\n      <td>Working</td>\n      <td>Secondary / secondary special</td>\n      <td>...</td>\n      <td>0</td>\n      <td>0</td>\n      <td>0</td>\n      <td>0</td>\n      <td>0</td>\n      <td>0</td>\n      <td>0</td>\n      <td>0</td>\n      <td>0</td>\n      <td>1</td>\n    </tr>\n    <tr>\n      <th>1</th>\n      <td>100003</td>\n      <td>Cash loans</td>\n      <td>F</td>\n      <td>N</td>\n      <td>N</td>\n      <td>0.0</td>\n      <td>0.002089</td>\n      <td>0.311736</td>\n      <td>State servant</td>\n      <td>Higher education</td>\n      <td>...</td>\n      <td>0</td>\n      <td>0</td>\n      <td>0</td>\n      <td>0</td>\n      <td>0</td>\n      <td>0</td>\n      <td>0</td>\n      <td>0</td>\n      <td>0</td>\n      <td>0</td>\n    </tr>\n    <tr>\n      <th>2</th>\n      <td>100004</td>\n      <td>Revolving loans</td>\n      <td>M</td>\n      <td>Y</td>\n      <td>Y</td>\n      <td>0.0</td>\n      <td>0.000358</td>\n      <td>0.022472</td>\n      <td>Working</td>\n      <td>Secondary / secondary special</td>\n      <td>...</td>\n      <td>0</td>\n      <td>0</td>\n      <td>0</td>\n      <td>0</td>\n      <td>0</td>\n      <td>0</td>\n      <td>0</td>\n      <td>0</td>\n      <td>0</td>\n      <td>0</td>\n    </tr>\n    <tr>\n      <th>3</th>\n      <td>100006</td>\n      <td>Cash loans</td>\n      <td>F</td>\n      <td>N</td>\n      <td>Y</td>\n      <td>0.0</td>\n      <td>0.000935</td>\n      <td>0.066837</td>\n      <td>Working</td>\n      <td>Secondary / secondary special</td>\n      <td>...</td>\n      <td>0</td>\n      <td>0</td>\n      <td>0</td>\n      <td>0</td>\n      <td>0</td>\n      <td>0</td>\n      <td>0</td>\n      <td>0</td>\n      <td>0</td>\n      <td>0</td>\n    </tr>\n    <tr>\n      <th>4</th>\n      <td>100007</td>\n      <td>Cash loans</td>\n      <td>M</td>\n      <td>N</td>\n      <td>Y</td>\n      <td>0.0</td>\n      <td>0.000819</td>\n      <td>0.116854</td>\n      <td>Working</td>\n      <td>Secondary / secondary special</td>\n      <td>...</td>\n      <td>0</td>\n      <td>0</td>\n      <td>0</td>\n      <td>0</td>\n      <td>0</td>\n      <td>0</td>\n      <td>0</td>\n      <td>0</td>\n      <td>0</td>\n      <td>0</td>\n    </tr>\n    <tr>\n      <th>...</th>\n      <td>...</td>\n      <td>...</td>\n      <td>...</td>\n      <td>...</td>\n      <td>...</td>\n      <td>...</td>\n      <td>...</td>\n      <td>...</td>\n      <td>...</td>\n      <td>...</td>\n      <td>...</td>\n      <td>...</td>\n      <td>...</td>\n      <td>...</td>\n      <td>...</td>\n      <td>...</td>\n      <td>...</td>\n      <td>...</td>\n      <td>...</td>\n      <td>...</td>\n      <td>...</td>\n    </tr>\n    <tr>\n      <th>307506</th>\n      <td>456251</td>\n      <td>Cash loans</td>\n      <td>M</td>\n      <td>N</td>\n      <td>N</td>\n      <td>0.0</td>\n      <td>0.001127</td>\n      <td>0.052360</td>\n      <td>Working</td>\n      <td>Secondary / secondary special</td>\n      <td>...</td>\n      <td>0</td>\n      <td>0</td>\n      <td>0</td>\n      <td>0</td>\n      <td>0</td>\n      <td>0</td>\n      <td>0</td>\n      <td>0</td>\n      <td>0</td>\n      <td>0</td>\n    </tr>\n    <tr>\n      <th>307507</th>\n      <td>456252</td>\n      <td>Cash loans</td>\n      <td>F</td>\n      <td>N</td>\n      <td>Y</td>\n      <td>0.0</td>\n      <td>0.000396</td>\n      <td>0.056067</td>\n      <td>Pensioner</td>\n      <td>Secondary / secondary special</td>\n      <td>...</td>\n      <td>0</td>\n      <td>0</td>\n      <td>0</td>\n      <td>0</td>\n      <td>0</td>\n      <td>0</td>\n      <td>0</td>\n      <td>0</td>\n      <td>0</td>\n      <td>0</td>\n    </tr>\n    <tr>\n      <th>307508</th>\n      <td>456253</td>\n      <td>Cash loans</td>\n      <td>F</td>\n      <td>N</td>\n      <td>Y</td>\n      <td>0.0</td>\n      <td>0.001089</td>\n      <td>0.157969</td>\n      <td>Working</td>\n      <td>Higher education</td>\n      <td>...</td>\n      <td>0</td>\n      <td>0</td>\n      <td>0</td>\n      <td>0</td>\n      <td>0</td>\n      <td>0</td>\n      <td>0</td>\n      <td>0</td>\n      <td>0</td>\n      <td>0</td>\n    </tr>\n    <tr>\n      <th>307509</th>\n      <td>456254</td>\n      <td>Cash loans</td>\n      <td>F</td>\n      <td>N</td>\n      <td>Y</td>\n      <td>0.0</td>\n      <td>0.001243</td>\n      <td>0.081175</td>\n      <td>Commercial associate</td>\n      <td>Secondary / secondary special</td>\n      <td>...</td>\n      <td>0</td>\n      <td>0</td>\n      <td>0</td>\n      <td>0</td>\n      <td>0</td>\n      <td>0</td>\n      <td>0</td>\n      <td>0</td>\n      <td>0</td>\n      <td>1</td>\n    </tr>\n    <tr>\n      <th>307510</th>\n      <td>456255</td>\n      <td>Cash loans</td>\n      <td>F</td>\n      <td>N</td>\n      <td>N</td>\n      <td>0.0</td>\n      <td>0.001127</td>\n      <td>0.157303</td>\n      <td>Commercial associate</td>\n      <td>Higher education</td>\n      <td>...</td>\n      <td>0</td>\n      <td>0</td>\n      <td>0</td>\n      <td>0</td>\n      <td>0</td>\n      <td>0</td>\n      <td>0</td>\n      <td>0</td>\n      <td>0</td>\n      <td>0</td>\n    </tr>\n  </tbody>\n</table>\n<p>306489 rows × 60 columns</p>\n</div>"
     },
     "execution_count": 22,
     "metadata": {},
     "output_type": "execute_result"
    }
   ],
   "source": [
    "#对于连续数值特征，进行归一化处理\n",
    "normalizer = sklearn.preprocessing.MinMaxScaler()\n",
    "normalizer.fit(data[numfea])\n",
    "data[numfea] = normalizer.transform(data[numfea])\n",
    "data"
   ],
   "metadata": {
    "collapsed": false,
    "ExecuteTime": {
     "end_time": "2023-11-16T07:54:19.494679800Z",
     "start_time": "2023-11-16T07:54:19.231798100Z"
    }
   },
   "id": "a621db8ef4354c4a"
  },
  {
   "cell_type": "code",
   "execution_count": 23,
   "outputs": [],
   "source": [
    "#对于离散特征，进行one-hot编码\n",
    "#data = pd.get_dummies(data,columns=catefea)\n",
    "#data"
   ],
   "metadata": {
    "collapsed": false,
    "ExecuteTime": {
     "end_time": "2023-11-16T07:54:19.494679800Z",
     "start_time": "2023-11-16T07:54:19.490216Z"
    }
   },
   "id": "796826f2ce29a76d"
  },
  {
   "cell_type": "code",
   "execution_count": 24,
   "outputs": [
    {
     "data": {
      "text/plain": "TARGET\n0    281700\n1     24789\nName: count, dtype: int64"
     },
     "execution_count": 24,
     "metadata": {},
     "output_type": "execute_result"
    }
   ],
   "source": [
    "#统计Target=1/0的样本数\n",
    "data['TARGET'].value_counts()"
   ],
   "metadata": {
    "collapsed": false,
    "ExecuteTime": {
     "end_time": "2023-11-16T07:54:19.504103500Z",
     "start_time": "2023-11-16T07:54:19.494679800Z"
    }
   },
   "id": "1570446c52bb0ece"
  },
  {
   "cell_type": "code",
   "execution_count": 25,
   "outputs": [
    {
     "data": {
      "text/plain": "        SK_ID_CURR NAME_CONTRACT_TYPE CODE_GENDER FLAG_OWN_CAR  \\\n25751       129938         Cash loans           F            Y   \n18862       121995         Cash loans           F            Y   \n213684      347606         Cash loans           F            N   \n83940       197356    Revolving loans           M            Y   \n279076      423312         Cash loans           M            Y   \n...            ...                ...         ...          ...   \n307448      456186         Cash loans           M            N   \n307475      456215         Cash loans           F            N   \n307481      456225         Cash loans           M            N   \n307489      456233         Cash loans           F            N   \n307509      456254         Cash loans           F            N   \n\n       FLAG_OWN_REALTY  CNT_CHILDREN  AMT_INCOME_TOTAL  AMT_CREDIT  \\\n25751                Y      0.000000          0.003051    0.424319   \n18862                Y      0.000000          0.001127    0.013917   \n213684               Y      0.000000          0.000973    0.111236   \n83940                Y      0.000000          0.001512    0.056180   \n279076               Y      0.000000          0.001897    0.030737   \n...                ...           ...               ...         ...   \n307448               N      0.052632          0.001550    0.101124   \n307475               N      0.052632          0.001012    0.314157   \n307481               Y      0.000000          0.001704    0.062921   \n307489               Y      0.000000          0.001704    0.118921   \n307509               Y      0.000000          0.001243    0.081175   \n\n            NAME_INCOME_TYPE            NAME_EDUCATION_TYPE  ...  \\\n25751                Working               Higher education  ...   \n18862   Commercial associate               Higher education  ...   \n213684  Commercial associate  Secondary / secondary special  ...   \n83940                Working              Incomplete higher  ...   \n279076               Working  Secondary / secondary special  ...   \n...                      ...                            ...  ...   \n307448               Working  Secondary / secondary special  ...   \n307475               Working               Higher education  ...   \n307481               Working  Secondary / secondary special  ...   \n307489  Commercial associate  Secondary / secondary special  ...   \n307509  Commercial associate  Secondary / secondary special  ...   \n\n       FLAG_DOCUMENT_13 FLAG_DOCUMENT_14  FLAG_DOCUMENT_15  FLAG_DOCUMENT_16  \\\n25751                 0                0                 0                 0   \n18862                 0                0                 0                 0   \n213684                0                0                 0                 0   \n83940                 0                0                 0                 0   \n279076                0                0                 0                 0   \n...                 ...              ...               ...               ...   \n307448                0                0                 0                 0   \n307475                0                0                 0                 0   \n307481                0                0                 0                 0   \n307489                0                0                 0                 0   \n307509                0                0                 0                 0   \n\n        FLAG_DOCUMENT_17  FLAG_DOCUMENT_18  FLAG_DOCUMENT_19  \\\n25751                  0                 0                 0   \n18862                  0                 0                 0   \n213684                 0                 0                 0   \n83940                  0                 0                 0   \n279076                 0                 0                 0   \n...                  ...               ...               ...   \n307448                 0                 0                 0   \n307475                 0                 0                 0   \n307481                 0                 0                 0   \n307489                 0                 0                 0   \n307509                 0                 0                 0   \n\n        FLAG_DOCUMENT_20  FLAG_DOCUMENT_21  TARGET  \n25751                  0                 0       0  \n18862                  0                 0       0  \n213684                 0                 0       0  \n83940                  0                 0       0  \n279076                 0                 0       0  \n...                  ...               ...     ...  \n307448                 0                 0       1  \n307475                 0                 0       1  \n307481                 0                 0       1  \n307489                 0                 0       1  \n307509                 0                 0       1  \n\n[49578 rows x 60 columns]",
      "text/html": "<div>\n<style scoped>\n    .dataframe tbody tr th:only-of-type {\n        vertical-align: middle;\n    }\n\n    .dataframe tbody tr th {\n        vertical-align: top;\n    }\n\n    .dataframe thead th {\n        text-align: right;\n    }\n</style>\n<table border=\"1\" class=\"dataframe\">\n  <thead>\n    <tr style=\"text-align: right;\">\n      <th></th>\n      <th>SK_ID_CURR</th>\n      <th>NAME_CONTRACT_TYPE</th>\n      <th>CODE_GENDER</th>\n      <th>FLAG_OWN_CAR</th>\n      <th>FLAG_OWN_REALTY</th>\n      <th>CNT_CHILDREN</th>\n      <th>AMT_INCOME_TOTAL</th>\n      <th>AMT_CREDIT</th>\n      <th>NAME_INCOME_TYPE</th>\n      <th>NAME_EDUCATION_TYPE</th>\n      <th>...</th>\n      <th>FLAG_DOCUMENT_13</th>\n      <th>FLAG_DOCUMENT_14</th>\n      <th>FLAG_DOCUMENT_15</th>\n      <th>FLAG_DOCUMENT_16</th>\n      <th>FLAG_DOCUMENT_17</th>\n      <th>FLAG_DOCUMENT_18</th>\n      <th>FLAG_DOCUMENT_19</th>\n      <th>FLAG_DOCUMENT_20</th>\n      <th>FLAG_DOCUMENT_21</th>\n      <th>TARGET</th>\n    </tr>\n  </thead>\n  <tbody>\n    <tr>\n      <th>25751</th>\n      <td>129938</td>\n      <td>Cash loans</td>\n      <td>F</td>\n      <td>Y</td>\n      <td>Y</td>\n      <td>0.000000</td>\n      <td>0.003051</td>\n      <td>0.424319</td>\n      <td>Working</td>\n      <td>Higher education</td>\n      <td>...</td>\n      <td>0</td>\n      <td>0</td>\n      <td>0</td>\n      <td>0</td>\n      <td>0</td>\n      <td>0</td>\n      <td>0</td>\n      <td>0</td>\n      <td>0</td>\n      <td>0</td>\n    </tr>\n    <tr>\n      <th>18862</th>\n      <td>121995</td>\n      <td>Cash loans</td>\n      <td>F</td>\n      <td>Y</td>\n      <td>Y</td>\n      <td>0.000000</td>\n      <td>0.001127</td>\n      <td>0.013917</td>\n      <td>Commercial associate</td>\n      <td>Higher education</td>\n      <td>...</td>\n      <td>0</td>\n      <td>0</td>\n      <td>0</td>\n      <td>0</td>\n      <td>0</td>\n      <td>0</td>\n      <td>0</td>\n      <td>0</td>\n      <td>0</td>\n      <td>0</td>\n    </tr>\n    <tr>\n      <th>213684</th>\n      <td>347606</td>\n      <td>Cash loans</td>\n      <td>F</td>\n      <td>N</td>\n      <td>Y</td>\n      <td>0.000000</td>\n      <td>0.000973</td>\n      <td>0.111236</td>\n      <td>Commercial associate</td>\n      <td>Secondary / secondary special</td>\n      <td>...</td>\n      <td>0</td>\n      <td>0</td>\n      <td>0</td>\n      <td>0</td>\n      <td>0</td>\n      <td>0</td>\n      <td>0</td>\n      <td>0</td>\n      <td>0</td>\n      <td>0</td>\n    </tr>\n    <tr>\n      <th>83940</th>\n      <td>197356</td>\n      <td>Revolving loans</td>\n      <td>M</td>\n      <td>Y</td>\n      <td>Y</td>\n      <td>0.000000</td>\n      <td>0.001512</td>\n      <td>0.056180</td>\n      <td>Working</td>\n      <td>Incomplete higher</td>\n      <td>...</td>\n      <td>0</td>\n      <td>0</td>\n      <td>0</td>\n      <td>0</td>\n      <td>0</td>\n      <td>0</td>\n      <td>0</td>\n      <td>0</td>\n      <td>0</td>\n      <td>0</td>\n    </tr>\n    <tr>\n      <th>279076</th>\n      <td>423312</td>\n      <td>Cash loans</td>\n      <td>M</td>\n      <td>Y</td>\n      <td>Y</td>\n      <td>0.000000</td>\n      <td>0.001897</td>\n      <td>0.030737</td>\n      <td>Working</td>\n      <td>Secondary / secondary special</td>\n      <td>...</td>\n      <td>0</td>\n      <td>0</td>\n      <td>0</td>\n      <td>0</td>\n      <td>0</td>\n      <td>0</td>\n      <td>0</td>\n      <td>0</td>\n      <td>0</td>\n      <td>0</td>\n    </tr>\n    <tr>\n      <th>...</th>\n      <td>...</td>\n      <td>...</td>\n      <td>...</td>\n      <td>...</td>\n      <td>...</td>\n      <td>...</td>\n      <td>...</td>\n      <td>...</td>\n      <td>...</td>\n      <td>...</td>\n      <td>...</td>\n      <td>...</td>\n      <td>...</td>\n      <td>...</td>\n      <td>...</td>\n      <td>...</td>\n      <td>...</td>\n      <td>...</td>\n      <td>...</td>\n      <td>...</td>\n      <td>...</td>\n    </tr>\n    <tr>\n      <th>307448</th>\n      <td>456186</td>\n      <td>Cash loans</td>\n      <td>M</td>\n      <td>N</td>\n      <td>N</td>\n      <td>0.052632</td>\n      <td>0.001550</td>\n      <td>0.101124</td>\n      <td>Working</td>\n      <td>Secondary / secondary special</td>\n      <td>...</td>\n      <td>0</td>\n      <td>0</td>\n      <td>0</td>\n      <td>0</td>\n      <td>0</td>\n      <td>0</td>\n      <td>0</td>\n      <td>0</td>\n      <td>0</td>\n      <td>1</td>\n    </tr>\n    <tr>\n      <th>307475</th>\n      <td>456215</td>\n      <td>Cash loans</td>\n      <td>F</td>\n      <td>N</td>\n      <td>N</td>\n      <td>0.052632</td>\n      <td>0.001012</td>\n      <td>0.314157</td>\n      <td>Working</td>\n      <td>Higher education</td>\n      <td>...</td>\n      <td>0</td>\n      <td>0</td>\n      <td>0</td>\n      <td>0</td>\n      <td>0</td>\n      <td>0</td>\n      <td>0</td>\n      <td>0</td>\n      <td>0</td>\n      <td>1</td>\n    </tr>\n    <tr>\n      <th>307481</th>\n      <td>456225</td>\n      <td>Cash loans</td>\n      <td>M</td>\n      <td>N</td>\n      <td>Y</td>\n      <td>0.000000</td>\n      <td>0.001704</td>\n      <td>0.062921</td>\n      <td>Working</td>\n      <td>Secondary / secondary special</td>\n      <td>...</td>\n      <td>0</td>\n      <td>0</td>\n      <td>0</td>\n      <td>0</td>\n      <td>0</td>\n      <td>0</td>\n      <td>0</td>\n      <td>0</td>\n      <td>0</td>\n      <td>1</td>\n    </tr>\n    <tr>\n      <th>307489</th>\n      <td>456233</td>\n      <td>Cash loans</td>\n      <td>F</td>\n      <td>N</td>\n      <td>Y</td>\n      <td>0.000000</td>\n      <td>0.001704</td>\n      <td>0.118921</td>\n      <td>Commercial associate</td>\n      <td>Secondary / secondary special</td>\n      <td>...</td>\n      <td>0</td>\n      <td>0</td>\n      <td>0</td>\n      <td>0</td>\n      <td>0</td>\n      <td>0</td>\n      <td>0</td>\n      <td>0</td>\n      <td>0</td>\n      <td>1</td>\n    </tr>\n    <tr>\n      <th>307509</th>\n      <td>456254</td>\n      <td>Cash loans</td>\n      <td>F</td>\n      <td>N</td>\n      <td>Y</td>\n      <td>0.000000</td>\n      <td>0.001243</td>\n      <td>0.081175</td>\n      <td>Commercial associate</td>\n      <td>Secondary / secondary special</td>\n      <td>...</td>\n      <td>0</td>\n      <td>0</td>\n      <td>0</td>\n      <td>0</td>\n      <td>0</td>\n      <td>0</td>\n      <td>0</td>\n      <td>0</td>\n      <td>0</td>\n      <td>1</td>\n    </tr>\n  </tbody>\n</table>\n<p>49578 rows × 60 columns</p>\n</div>"
     },
     "execution_count": 25,
     "metadata": {},
     "output_type": "execute_result"
    }
   ],
   "source": [
    "#正负样本数目相差过大，进行下采样\n",
    "#随机采样\n",
    "data_1=data[data['TARGET']==1]\n",
    "data_0=data[data['TARGET']==0]\n",
    "data_0=data_0.sample(n=len(data_1),random_state=42)\n",
    "data=pd.concat([data_0,data_1])\n",
    "data"
   ],
   "metadata": {
    "collapsed": false,
    "ExecuteTime": {
     "end_time": "2023-11-16T07:54:19.709944200Z",
     "start_time": "2023-11-16T07:54:19.507079600Z"
    }
   },
   "id": "2de5c1ed91ceabea"
  },
  {
   "cell_type": "code",
   "execution_count": 26,
   "outputs": [
    {
     "data": {
      "text/plain": "TARGET\n0    24789\n1    24789\nName: count, dtype: int64"
     },
     "execution_count": 26,
     "metadata": {},
     "output_type": "execute_result"
    }
   ],
   "source": [
    "data['TARGET'].value_counts()"
   ],
   "metadata": {
    "collapsed": false,
    "ExecuteTime": {
     "end_time": "2023-11-16T07:54:19.713415400Z",
     "start_time": "2023-11-16T07:54:19.706471400Z"
    }
   },
   "id": "14633017dd387c6c"
  },
  {
   "cell_type": "code",
   "execution_count": 27,
   "outputs": [
    {
     "data": {
      "text/plain": "        SK_ID_CURR  CNT_CHILDREN  AMT_INCOME_TOTAL  AMT_CREDIT  \\\n25751       129938      0.000000          0.003051    0.424319   \n18862       121995      0.000000          0.001127    0.013917   \n213684      347606      0.000000          0.000973    0.111236   \n83940       197356      0.000000          0.001512    0.056180   \n279076      423312      0.000000          0.001897    0.030737   \n...            ...           ...               ...         ...   \n307448      456186      0.052632          0.001550    0.101124   \n307475      456215      0.052632          0.001012    0.314157   \n307481      456225      0.000000          0.001704    0.062921   \n307489      456233      0.000000          0.001704    0.118921   \n307509      456254      0.000000          0.001243    0.081175   \n\n        REGION_POPULATION_RELATIVE  DAYS_BIRTH  DAYS_EMPLOYED  \\\n25751                     0.097136    0.721984       0.040916   \n18862                     0.257000    0.818997       0.045840   \n213684                    0.197042    0.873224       0.044585   \n83940                     0.030685    0.497351       0.036680   \n279076                    0.491595    0.192165       0.043862   \n...                            ...         ...            ...   \n307448                    0.276330    0.863078       0.038794   \n307475                    0.097483    0.665896       0.040472   \n307481                    0.114722    0.258455       0.038535   \n307489                    0.196267    0.493687       0.046002   \n307509                    0.069553    0.747914       0.034258   \n\n        DAYS_REGISTRATION  DAYS_ID_PUBLISH  REGION_RATING_CLIENT  ...  \\\n25751            0.736017         0.371683                   1.0  ...   \n18862            0.942810         0.531749                   0.5  ...   \n213684           0.830293         0.717104                   0.5  ...   \n83940            0.851573         0.376407                   0.5  ...   \n279076           0.951159         0.428512                   0.5  ...   \n...                   ...              ...                   ...  ...   \n307448           0.655196         0.641517                   1.0  ...   \n307475           0.979734         0.346394                   0.5  ...   \n307481           0.638416         0.467556                   0.5  ...   \n307489           0.663951         0.998749                   0.5  ...   \n307509           0.896158         0.870641                   0.5  ...   \n\n        FLAG_DOCUMENT_13  FLAG_DOCUMENT_14  FLAG_DOCUMENT_15  \\\n25751                  0                 0                 0   \n18862                  0                 0                 0   \n213684                 0                 0                 0   \n83940                  0                 0                 0   \n279076                 0                 0                 0   \n...                  ...               ...               ...   \n307448                 0                 0                 0   \n307475                 0                 0                 0   \n307481                 0                 0                 0   \n307489                 0                 0                 0   \n307509                 0                 0                 0   \n\n        FLAG_DOCUMENT_16  FLAG_DOCUMENT_17  FLAG_DOCUMENT_18  \\\n25751                  0                 0                 0   \n18862                  0                 0                 0   \n213684                 0                 0                 0   \n83940                  0                 0                 0   \n279076                 0                 0                 0   \n...                  ...               ...               ...   \n307448                 0                 0                 0   \n307475                 0                 0                 0   \n307481                 0                 0                 0   \n307489                 0                 0                 0   \n307509                 0                 0                 0   \n\n        FLAG_DOCUMENT_19 FLAG_DOCUMENT_20 FLAG_DOCUMENT_21 TARGET  \n25751                  0                0                0      0  \n18862                  0                0                0      0  \n213684                 0                0                0      0  \n83940                  0                0                0      0  \n279076                 0                0                0      0  \n...                  ...              ...              ...    ...  \n307448                 0                0                0      1  \n307475                 0                0                0      1  \n307481                 0                0                0      1  \n307489                 0                0                0      1  \n307509                 0                0                0      1  \n\n[49578 rows x 60 columns]",
      "text/html": "<div>\n<style scoped>\n    .dataframe tbody tr th:only-of-type {\n        vertical-align: middle;\n    }\n\n    .dataframe tbody tr th {\n        vertical-align: top;\n    }\n\n    .dataframe thead th {\n        text-align: right;\n    }\n</style>\n<table border=\"1\" class=\"dataframe\">\n  <thead>\n    <tr style=\"text-align: right;\">\n      <th></th>\n      <th>SK_ID_CURR</th>\n      <th>CNT_CHILDREN</th>\n      <th>AMT_INCOME_TOTAL</th>\n      <th>AMT_CREDIT</th>\n      <th>REGION_POPULATION_RELATIVE</th>\n      <th>DAYS_BIRTH</th>\n      <th>DAYS_EMPLOYED</th>\n      <th>DAYS_REGISTRATION</th>\n      <th>DAYS_ID_PUBLISH</th>\n      <th>REGION_RATING_CLIENT</th>\n      <th>...</th>\n      <th>FLAG_DOCUMENT_13</th>\n      <th>FLAG_DOCUMENT_14</th>\n      <th>FLAG_DOCUMENT_15</th>\n      <th>FLAG_DOCUMENT_16</th>\n      <th>FLAG_DOCUMENT_17</th>\n      <th>FLAG_DOCUMENT_18</th>\n      <th>FLAG_DOCUMENT_19</th>\n      <th>FLAG_DOCUMENT_20</th>\n      <th>FLAG_DOCUMENT_21</th>\n      <th>TARGET</th>\n    </tr>\n  </thead>\n  <tbody>\n    <tr>\n      <th>25751</th>\n      <td>129938</td>\n      <td>0.000000</td>\n      <td>0.003051</td>\n      <td>0.424319</td>\n      <td>0.097136</td>\n      <td>0.721984</td>\n      <td>0.040916</td>\n      <td>0.736017</td>\n      <td>0.371683</td>\n      <td>1.0</td>\n      <td>...</td>\n      <td>0</td>\n      <td>0</td>\n      <td>0</td>\n      <td>0</td>\n      <td>0</td>\n      <td>0</td>\n      <td>0</td>\n      <td>0</td>\n      <td>0</td>\n      <td>0</td>\n    </tr>\n    <tr>\n      <th>18862</th>\n      <td>121995</td>\n      <td>0.000000</td>\n      <td>0.001127</td>\n      <td>0.013917</td>\n      <td>0.257000</td>\n      <td>0.818997</td>\n      <td>0.045840</td>\n      <td>0.942810</td>\n      <td>0.531749</td>\n      <td>0.5</td>\n      <td>...</td>\n      <td>0</td>\n      <td>0</td>\n      <td>0</td>\n      <td>0</td>\n      <td>0</td>\n      <td>0</td>\n      <td>0</td>\n      <td>0</td>\n      <td>0</td>\n      <td>0</td>\n    </tr>\n    <tr>\n      <th>213684</th>\n      <td>347606</td>\n      <td>0.000000</td>\n      <td>0.000973</td>\n      <td>0.111236</td>\n      <td>0.197042</td>\n      <td>0.873224</td>\n      <td>0.044585</td>\n      <td>0.830293</td>\n      <td>0.717104</td>\n      <td>0.5</td>\n      <td>...</td>\n      <td>0</td>\n      <td>0</td>\n      <td>0</td>\n      <td>0</td>\n      <td>0</td>\n      <td>0</td>\n      <td>0</td>\n      <td>0</td>\n      <td>0</td>\n      <td>0</td>\n    </tr>\n    <tr>\n      <th>83940</th>\n      <td>197356</td>\n      <td>0.000000</td>\n      <td>0.001512</td>\n      <td>0.056180</td>\n      <td>0.030685</td>\n      <td>0.497351</td>\n      <td>0.036680</td>\n      <td>0.851573</td>\n      <td>0.376407</td>\n      <td>0.5</td>\n      <td>...</td>\n      <td>0</td>\n      <td>0</td>\n      <td>0</td>\n      <td>0</td>\n      <td>0</td>\n      <td>0</td>\n      <td>0</td>\n      <td>0</td>\n      <td>0</td>\n      <td>0</td>\n    </tr>\n    <tr>\n      <th>279076</th>\n      <td>423312</td>\n      <td>0.000000</td>\n      <td>0.001897</td>\n      <td>0.030737</td>\n      <td>0.491595</td>\n      <td>0.192165</td>\n      <td>0.043862</td>\n      <td>0.951159</td>\n      <td>0.428512</td>\n      <td>0.5</td>\n      <td>...</td>\n      <td>0</td>\n      <td>0</td>\n      <td>0</td>\n      <td>0</td>\n      <td>0</td>\n      <td>0</td>\n      <td>0</td>\n      <td>0</td>\n      <td>0</td>\n      <td>0</td>\n    </tr>\n    <tr>\n      <th>...</th>\n      <td>...</td>\n      <td>...</td>\n      <td>...</td>\n      <td>...</td>\n      <td>...</td>\n      <td>...</td>\n      <td>...</td>\n      <td>...</td>\n      <td>...</td>\n      <td>...</td>\n      <td>...</td>\n      <td>...</td>\n      <td>...</td>\n      <td>...</td>\n      <td>...</td>\n      <td>...</td>\n      <td>...</td>\n      <td>...</td>\n      <td>...</td>\n      <td>...</td>\n      <td>...</td>\n    </tr>\n    <tr>\n      <th>307448</th>\n      <td>456186</td>\n      <td>0.052632</td>\n      <td>0.001550</td>\n      <td>0.101124</td>\n      <td>0.276330</td>\n      <td>0.863078</td>\n      <td>0.038794</td>\n      <td>0.655196</td>\n      <td>0.641517</td>\n      <td>1.0</td>\n      <td>...</td>\n      <td>0</td>\n      <td>0</td>\n      <td>0</td>\n      <td>0</td>\n      <td>0</td>\n      <td>0</td>\n      <td>0</td>\n      <td>0</td>\n      <td>0</td>\n      <td>1</td>\n    </tr>\n    <tr>\n      <th>307475</th>\n      <td>456215</td>\n      <td>0.052632</td>\n      <td>0.001012</td>\n      <td>0.314157</td>\n      <td>0.097483</td>\n      <td>0.665896</td>\n      <td>0.040472</td>\n      <td>0.979734</td>\n      <td>0.346394</td>\n      <td>0.5</td>\n      <td>...</td>\n      <td>0</td>\n      <td>0</td>\n      <td>0</td>\n      <td>0</td>\n      <td>0</td>\n      <td>0</td>\n      <td>0</td>\n      <td>0</td>\n      <td>0</td>\n      <td>1</td>\n    </tr>\n    <tr>\n      <th>307481</th>\n      <td>456225</td>\n      <td>0.000000</td>\n      <td>0.001704</td>\n      <td>0.062921</td>\n      <td>0.114722</td>\n      <td>0.258455</td>\n      <td>0.038535</td>\n      <td>0.638416</td>\n      <td>0.467556</td>\n      <td>0.5</td>\n      <td>...</td>\n      <td>0</td>\n      <td>0</td>\n      <td>0</td>\n      <td>0</td>\n      <td>0</td>\n      <td>0</td>\n      <td>0</td>\n      <td>0</td>\n      <td>0</td>\n      <td>1</td>\n    </tr>\n    <tr>\n      <th>307489</th>\n      <td>456233</td>\n      <td>0.000000</td>\n      <td>0.001704</td>\n      <td>0.118921</td>\n      <td>0.196267</td>\n      <td>0.493687</td>\n      <td>0.046002</td>\n      <td>0.663951</td>\n      <td>0.998749</td>\n      <td>0.5</td>\n      <td>...</td>\n      <td>0</td>\n      <td>0</td>\n      <td>0</td>\n      <td>0</td>\n      <td>0</td>\n      <td>0</td>\n      <td>0</td>\n      <td>0</td>\n      <td>0</td>\n      <td>1</td>\n    </tr>\n    <tr>\n      <th>307509</th>\n      <td>456254</td>\n      <td>0.000000</td>\n      <td>0.001243</td>\n      <td>0.081175</td>\n      <td>0.069553</td>\n      <td>0.747914</td>\n      <td>0.034258</td>\n      <td>0.896158</td>\n      <td>0.870641</td>\n      <td>0.5</td>\n      <td>...</td>\n      <td>0</td>\n      <td>0</td>\n      <td>0</td>\n      <td>0</td>\n      <td>0</td>\n      <td>0</td>\n      <td>0</td>\n      <td>0</td>\n      <td>0</td>\n      <td>1</td>\n    </tr>\n  </tbody>\n</table>\n<p>49578 rows × 60 columns</p>\n</div>"
     },
     "execution_count": 27,
     "metadata": {},
     "output_type": "execute_result"
    }
   ],
   "source": [
    "#将连续数值特征放在所有离散特征之前，Target特征置于最后\n",
    "data=data[['SK_ID_CURR']+numfea+catefea+['TARGET']]\n",
    "data"
   ],
   "metadata": {
    "collapsed": false,
    "ExecuteTime": {
     "end_time": "2023-11-16T07:54:26.983218300Z",
     "start_time": "2023-11-16T07:54:26.924194500Z"
    }
   },
   "id": "90de8e60311c4f86"
  },
  {
   "cell_type": "code",
   "execution_count": 28,
   "outputs": [
    {
     "name": "stdout",
     "output_type": "stream",
     "text": [
      "39662\n",
      "9916\n"
     ]
    }
   ],
   "source": [
    "# 随机划分训练集和测试集 (4:1)\n",
    "train_indices, test_indices = train_test_split(data, test_size=0.2, random_state=42)\n",
    "train_size=len(train_indices)\n",
    "test_size=len(test_indices)\n",
    "print(train_size)\n",
    "print(test_size)\n",
    "# 分别保存为csv文件\n",
    "train_indices.to_csv(r'G:\\NJU_课程!!!!!!!!\\金融大数据处理技术\\实验二\\train.csv',index=False)\n",
    "test_indices.to_csv(r'G:\\NJU_课程!!!!!!!!\\金融大数据处理技术\\实验二\\test.csv',index=False)"
   ],
   "metadata": {
    "collapsed": false,
    "ExecuteTime": {
     "end_time": "2023-11-16T07:54:41.617493100Z",
     "start_time": "2023-11-16T07:54:40.678406400Z"
    }
   },
   "id": "9c6d983188e9593"
  }
 ],
 "metadata": {
  "kernelspec": {
   "display_name": "Python 3",
   "language": "python",
   "name": "python3"
  },
  "language_info": {
   "codemirror_mode": {
    "name": "ipython",
    "version": 2
   },
   "file_extension": ".py",
   "mimetype": "text/x-python",
   "name": "python",
   "nbconvert_exporter": "python",
   "pygments_lexer": "ipython2",
   "version": "2.7.6"
  }
 },
 "nbformat": 4,
 "nbformat_minor": 5
}
